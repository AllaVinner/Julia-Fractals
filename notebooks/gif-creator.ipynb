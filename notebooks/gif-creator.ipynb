{
 "cells": [
  {
   "cell_type": "code",
   "execution_count": 1,
   "metadata": {},
   "outputs": [
    {
     "name": "stdout",
     "output_type": "stream",
     "text": [
      "c:\\Users\\joelw\\OneDrive\\Documents\\Projects\\Programming\\Julia-Fractals\n"
     ]
    },
    {
     "data": {
      "text/plain": [
       "'c:\\\\Users\\\\joelw\\\\OneDrive\\\\Documents\\\\Projects\\\\Programming\\\\Julia-Fractals'"
      ]
     },
     "execution_count": 1,
     "metadata": {},
     "output_type": "execute_result"
    }
   ],
   "source": [
    "import os\n",
    "working_dir_path = %pwd  #look at the current work dir\n",
    "if os.path.basename(working_dir_path) == 'notebooks':\n",
    "    %cd ..\n",
    "\n",
    "%pwd "
   ]
  },
  {
   "cell_type": "code",
   "execution_count": 3,
   "metadata": {},
   "outputs": [],
   "source": [
    "import imageio\n",
    "from PIL import Image\n",
    "import numpy as np\n",
    "from plotly import express as px\n",
    "import subprocess"
   ]
  },
  {
   "cell_type": "code",
   "execution_count": 10,
   "metadata": {},
   "outputs": [],
   "source": [
    "def ellipse_path(num_points, p, q, A, B, a):\n",
    "    T = np.linspace(0, 2*np.pi, num_points)\n",
    "    x = p + A*np.cos(a)*np.cos(T)+B*np.sin(a)*np.sin(T)\n",
    "    y = q - A*np.sin(a)*np.cos(T)+B*np.cos(a)*np.sin(T)\n",
    "    return x, y"
   ]
  },
  {
   "cell_type": "code",
   "execution_count": 11,
   "metadata": {},
   "outputs": [],
   "source": [
    "reals, imags = ellipse_path(150, p = -0.3, q = -0.5, A = 0.4, B = 1.2, a = 0.5)"
   ]
  },
  {
   "cell_type": "code",
   "execution_count": 12,
   "metadata": {},
   "outputs": [
    {
     "data": {
      "application/vnd.plotly.v1+json": {
       "config": {
        "plotlyServerURL": "https://plot.ly"
       },
       "data": [
        {
         "hovertemplate": "x=%{x}<br>y=%{y}<extra></extra>",
         "legendgroup": "",
         "marker": {
          "color": "#636efa",
          "symbol": "circle"
         },
         "mode": "markers",
         "name": "",
         "orientation": "v",
         "showlegend": false,
         "type": "scatter",
         "x": [
          0.051033024756149126,
          0.07497406466621813,
          0.09824841437324147,
          0.12081469293279101,
          0.14263277832509924,
          0.1636638787905462,
          0.1838706017999923,
          0.20321702053733087,
          0.22166873777605592,
          0.2391929470362756,
          0.2557584909134363,
          0.27133591647505095,
          0.2858975276269381,
          0.2994174343558667,
          0.31187159876105464,
          0.32323787779267943,
          0.33349606262141257,
          0.3426279145689805,
          0.3506171975358694,
          0.35744970686851674,
          0.3631132946146681,
          0.36759789112199226,
          0.37089552294155537,
          0.37300032700432284,
          0.3739085610454817,
          0.373618610258051,
          0.3721309901639497,
          0.36944834569741714,
          0.365575446502417,
          0.36051917845238474,
          0.3542885314073944,
          0.3468945832305172,
          0.3383504800917842,
          0.328671413094776,
          0.317874591267395,
          0.3059792109648418,
          0.29300642173919633,
          0.2789792887362854,
          0.26392275168669627,
          0.2478635805638445,
          0.23083032798793934,
          0.2128532784604661,
          0.1939643945194479,
          0.17419725991121987,
          0.1535870198797531,
          0.1321703186796943,
          0.10998523442421682,
          0.08707121138352691,
          0.06346898985438931,
          0.03922053372536638,
          0.014368955866557065,
          -0.011041558523514683,
          -0.036965830477569794,
          -0.06335776758612799,
          -0.0901704459481315,
          -0.11735619359992838,
          -0.14486667527428265,
          -0.17265297833871796,
          -0.2006656997603916,
          -0.2288550339428838,
          -0.2571708612787321,
          -0.28556283726026255,
          -0.3139804819902887,
          -0.34237326993352635,
          -0.3706907197491498,
          -0.39888248404477633,
          -0.4268984388922904,
          -0.45468877294635923,
          -0.48220407600718784,
          -0.5093954268700503,
          -0.5362144803054064,
          -0.5626135530149562,
          -0.5885457084108029,
          -0.6139648400669957,
          -0.6388257536950706,
          -0.6630842474978454,
          -0.6866971907586049,
          -0.7096226005259387,
          -0.7318197162578974,
          -0.7532490722927492,
          -0.7738725680174856,
          -0.7936535356093214,
          -0.8125568052297454,
          -0.8305487675552097,
          -0.8475974335332801,
          -0.863672491258005,
          -0.8787453598633767,
          -0.8927892403390694,
          -0.9057791631781007,
          -0.917692032771704,
          -0.9285066684724783,
          -0.9382038422528063,
          -0.9467663128915855,
          -0.9541788566284906,
          -0.9604282942312634,
          -0.9655035144279067,
          -0.9693954936621212,
          -0.972097312136858,
          -0.973604166117467,
          -0.97391337647256,
          -0.97302439343741,
          -0.9709387975914117,
          -0.9676602970478694,
          -0.9631947208611072,
          -0.9575500086626232,
          -0.9507361965447134,
          -0.9427653992166674,
          -0.9336517884652553,
          -0.9234115679578112,
          -0.9120629444327,
          -0.8996260953284042,
          -0.8861231329087736,
          -0.8715780649482261,
          -0.8560167520468025,
          -0.8394668616509626,
          -0.8219578188618746,
          -0.80352075411866,
          -0.7841884478496084,
          -0.7639952721897727,
          -0.7429771298685655,
          -0.7211713903760191,
          -0.6986168235211947,
          -0.6753535305008753,
          -0.6514228726011041,
          -0.6268673976583257,
          -0.6017307644108842,
          -0.5760576648753828,
          -0.5498937448859077,
          -0.5232855229373987,
          -0.4962803074774671,
          -0.46892611279369956,
          -0.4412715736460059,
          -0.413365858795794,
          -0.38525858358570486,
          -0.3569997217253418,
          -0.3286395164398421,
          -0.30022839113925515,
          -0.27181685976755665,
          -0.24345543699070388,
          -0.21519454838340119,
          -0.1870844407742663,
          -0.15917509290880666,
          -0.13151612658903092,
          -0.10415671844769739,
          -0.07714551251405323,
          -0.050530533726528895,
          -0.024359102546148592,
          0.0013222491775242776,
          0.02646786093831421,
          0.05103302475614899
         ],
         "xaxis": "x",
         "y": [
          -0.6917702154416812,
          -0.6472047300438838,
          -0.6023775200080114,
          -0.5573682864776283,
          -0.5122570542274291,
          -0.46712402938211045,
          -0.42204945681280726,
          -0.3771134774646413,
          -0.3323959858690445,
          -0.2879764880941984,
          -0.24393396038614534,
          -0.2003467087519062,
          -0.15729222973425683,
          -0.11484707262570304,
          -0.0730867033666327,
          -0.032085370369626776,
          0.008084027491507606,
          0.047350070493275775,
          0.08564294504415637,
          0.1228945678106198,
          0.15903870676681153,
          0.19401109895267554,
          0.22774956473115282,
          0.26019411834130746,
          0.2912870745508199,
          0.32097315121822523,
          0.3491995675825428,
          0.3759161381055435,
          0.40107536169980573,
          0.42463250618391446,
          0.4465456878146479,
          0.46677594575474446,
          0.4852873113438496,
          0.5020468720494814,
          0.5170248299843117,
          0.5301945548857235,
          0.5415326314634448,
          0.5510189010310806,
          0.5586364973475224,
          0.5643718766045086,
          0.5682148415070216,
          0.5701585594037057,
          0.570199574435073,
          0.5683378136778945,
          0.5645765872748549,
          0.5589225825492408,
          0.5513858521151224,
          0.5419797960041735,
          0.5307211378409046,
          0.5176298951086672,
          0.5027293435593007,
          0.48604597582969394,
          0.4676094543388437,
          0.4474525585491569,
          0.4256111266857618,
          0.4021239920174518,
          0.37703291381255144,
          0.3503825030924598,
          0.3222201433148835,
          0.29259590612777836,
          0.261562462343785,
          0.22917498829344835,
          0.19549106772371316,
          0.16057058941612484,
          0.12447564070676165,
          0.08727039709721512,
          0.049021008152891565,
          0.009795479891499759,
          -0.030336446129169636,
          -0.07130341680918689,
          -0.11303259436968988,
          -0.15544978585580005,
          -0.1984795750489851,
          -0.24204545655434626,
          -0.28606997182441757,
          -0.3304748468776348,
          -0.375181131466621,
          -0.4201093394488445,
          -0.4651795901100769,
          -0.5103117501893922,
          -0.555425576353178,
          -0.6004408578648534,
          -0.6452775591966338,
          -0.689855962329778,
          -0.7340968084903141,
          -0.7779214390682512,
          -0.8212519354697133,
          -0.8640112576533592,
          -0.9061233811047629,
          -0.9475134320052248,
          -0.9881078203546919,
          -1.0278343708120907,
          -1.0666224510204478,
          -1.1044030971886474,
          -1.1411091367065318,
          -1.1766753075753515,
          -1.2110383744412179,
          -1.2441372410252562,
          -1.2759130587505567,
          -1.306309331372798,
          -1.3352720154285103,
          -1.3627496163223778,
          -1.3886932798827505,
          -1.4130568792225815,
          -1.4357970967513451,
          -1.4568735011921337,
          -1.4762486194669937,
          -1.493888003322688,
          -1.5097602905784355,
          -1.523837260886723,
          -1.5360938859080537,
          -1.5465083738104202,
          -1.5550622080143885,
          -1.561740180114899,
          -1.5665304169212557,
          -1.5694244015672278,
          -1.5704169886537245,
          -1.5695064133971286,
          -1.566694294767017,
          -1.561985632607691,
          -1.5553887987486368,
          -1.5469155221197175,
          -1.5365808678975639,
          -1.52440321072024,
          -1.510404202017809,
          -1.4946087315168766,
          -1.4770448829875695,
          -1.4577438843116164,
          -1.43674005196031,
          -1.4140707299810784,
          -1.38977622360113,
          -1.3638997275662277,
          -1.3364872493420104,
          -1.307587527314398,
          -1.2772519441345165,
          -1.245534435362224,
          -1.212491393570651,
          -1.1781815680822612,
          -1.1426659605147054,
          -1.106007716322168,
          -1.0682720125250524,
          -1.0295259418276215,
          -0.9898383933296142,
          -0.9492799300439434,
          -0.9079226634382289,
          -0.8658401252232454,
          -0.8231071366162218,
          -0.7797996753114445,
          -0.7359947403946947,
          -0.6917702154416814
         ],
         "yaxis": "y"
        }
       ],
       "layout": {
        "legend": {
         "tracegroupgap": 0
        },
        "margin": {
         "t": 60
        },
        "template": {
         "data": {
          "bar": [
           {
            "error_x": {
             "color": "#2a3f5f"
            },
            "error_y": {
             "color": "#2a3f5f"
            },
            "marker": {
             "line": {
              "color": "#E5ECF6",
              "width": 0.5
             },
             "pattern": {
              "fillmode": "overlay",
              "size": 10,
              "solidity": 0.2
             }
            },
            "type": "bar"
           }
          ],
          "barpolar": [
           {
            "marker": {
             "line": {
              "color": "#E5ECF6",
              "width": 0.5
             },
             "pattern": {
              "fillmode": "overlay",
              "size": 10,
              "solidity": 0.2
             }
            },
            "type": "barpolar"
           }
          ],
          "carpet": [
           {
            "aaxis": {
             "endlinecolor": "#2a3f5f",
             "gridcolor": "white",
             "linecolor": "white",
             "minorgridcolor": "white",
             "startlinecolor": "#2a3f5f"
            },
            "baxis": {
             "endlinecolor": "#2a3f5f",
             "gridcolor": "white",
             "linecolor": "white",
             "minorgridcolor": "white",
             "startlinecolor": "#2a3f5f"
            },
            "type": "carpet"
           }
          ],
          "choropleth": [
           {
            "colorbar": {
             "outlinewidth": 0,
             "ticks": ""
            },
            "type": "choropleth"
           }
          ],
          "contour": [
           {
            "colorbar": {
             "outlinewidth": 0,
             "ticks": ""
            },
            "colorscale": [
             [
              0,
              "#0d0887"
             ],
             [
              0.1111111111111111,
              "#46039f"
             ],
             [
              0.2222222222222222,
              "#7201a8"
             ],
             [
              0.3333333333333333,
              "#9c179e"
             ],
             [
              0.4444444444444444,
              "#bd3786"
             ],
             [
              0.5555555555555556,
              "#d8576b"
             ],
             [
              0.6666666666666666,
              "#ed7953"
             ],
             [
              0.7777777777777778,
              "#fb9f3a"
             ],
             [
              0.8888888888888888,
              "#fdca26"
             ],
             [
              1,
              "#f0f921"
             ]
            ],
            "type": "contour"
           }
          ],
          "contourcarpet": [
           {
            "colorbar": {
             "outlinewidth": 0,
             "ticks": ""
            },
            "type": "contourcarpet"
           }
          ],
          "heatmap": [
           {
            "colorbar": {
             "outlinewidth": 0,
             "ticks": ""
            },
            "colorscale": [
             [
              0,
              "#0d0887"
             ],
             [
              0.1111111111111111,
              "#46039f"
             ],
             [
              0.2222222222222222,
              "#7201a8"
             ],
             [
              0.3333333333333333,
              "#9c179e"
             ],
             [
              0.4444444444444444,
              "#bd3786"
             ],
             [
              0.5555555555555556,
              "#d8576b"
             ],
             [
              0.6666666666666666,
              "#ed7953"
             ],
             [
              0.7777777777777778,
              "#fb9f3a"
             ],
             [
              0.8888888888888888,
              "#fdca26"
             ],
             [
              1,
              "#f0f921"
             ]
            ],
            "type": "heatmap"
           }
          ],
          "heatmapgl": [
           {
            "colorbar": {
             "outlinewidth": 0,
             "ticks": ""
            },
            "colorscale": [
             [
              0,
              "#0d0887"
             ],
             [
              0.1111111111111111,
              "#46039f"
             ],
             [
              0.2222222222222222,
              "#7201a8"
             ],
             [
              0.3333333333333333,
              "#9c179e"
             ],
             [
              0.4444444444444444,
              "#bd3786"
             ],
             [
              0.5555555555555556,
              "#d8576b"
             ],
             [
              0.6666666666666666,
              "#ed7953"
             ],
             [
              0.7777777777777778,
              "#fb9f3a"
             ],
             [
              0.8888888888888888,
              "#fdca26"
             ],
             [
              1,
              "#f0f921"
             ]
            ],
            "type": "heatmapgl"
           }
          ],
          "histogram": [
           {
            "marker": {
             "pattern": {
              "fillmode": "overlay",
              "size": 10,
              "solidity": 0.2
             }
            },
            "type": "histogram"
           }
          ],
          "histogram2d": [
           {
            "colorbar": {
             "outlinewidth": 0,
             "ticks": ""
            },
            "colorscale": [
             [
              0,
              "#0d0887"
             ],
             [
              0.1111111111111111,
              "#46039f"
             ],
             [
              0.2222222222222222,
              "#7201a8"
             ],
             [
              0.3333333333333333,
              "#9c179e"
             ],
             [
              0.4444444444444444,
              "#bd3786"
             ],
             [
              0.5555555555555556,
              "#d8576b"
             ],
             [
              0.6666666666666666,
              "#ed7953"
             ],
             [
              0.7777777777777778,
              "#fb9f3a"
             ],
             [
              0.8888888888888888,
              "#fdca26"
             ],
             [
              1,
              "#f0f921"
             ]
            ],
            "type": "histogram2d"
           }
          ],
          "histogram2dcontour": [
           {
            "colorbar": {
             "outlinewidth": 0,
             "ticks": ""
            },
            "colorscale": [
             [
              0,
              "#0d0887"
             ],
             [
              0.1111111111111111,
              "#46039f"
             ],
             [
              0.2222222222222222,
              "#7201a8"
             ],
             [
              0.3333333333333333,
              "#9c179e"
             ],
             [
              0.4444444444444444,
              "#bd3786"
             ],
             [
              0.5555555555555556,
              "#d8576b"
             ],
             [
              0.6666666666666666,
              "#ed7953"
             ],
             [
              0.7777777777777778,
              "#fb9f3a"
             ],
             [
              0.8888888888888888,
              "#fdca26"
             ],
             [
              1,
              "#f0f921"
             ]
            ],
            "type": "histogram2dcontour"
           }
          ],
          "mesh3d": [
           {
            "colorbar": {
             "outlinewidth": 0,
             "ticks": ""
            },
            "type": "mesh3d"
           }
          ],
          "parcoords": [
           {
            "line": {
             "colorbar": {
              "outlinewidth": 0,
              "ticks": ""
             }
            },
            "type": "parcoords"
           }
          ],
          "pie": [
           {
            "automargin": true,
            "type": "pie"
           }
          ],
          "scatter": [
           {
            "fillpattern": {
             "fillmode": "overlay",
             "size": 10,
             "solidity": 0.2
            },
            "type": "scatter"
           }
          ],
          "scatter3d": [
           {
            "line": {
             "colorbar": {
              "outlinewidth": 0,
              "ticks": ""
             }
            },
            "marker": {
             "colorbar": {
              "outlinewidth": 0,
              "ticks": ""
             }
            },
            "type": "scatter3d"
           }
          ],
          "scattercarpet": [
           {
            "marker": {
             "colorbar": {
              "outlinewidth": 0,
              "ticks": ""
             }
            },
            "type": "scattercarpet"
           }
          ],
          "scattergeo": [
           {
            "marker": {
             "colorbar": {
              "outlinewidth": 0,
              "ticks": ""
             }
            },
            "type": "scattergeo"
           }
          ],
          "scattergl": [
           {
            "marker": {
             "colorbar": {
              "outlinewidth": 0,
              "ticks": ""
             }
            },
            "type": "scattergl"
           }
          ],
          "scattermapbox": [
           {
            "marker": {
             "colorbar": {
              "outlinewidth": 0,
              "ticks": ""
             }
            },
            "type": "scattermapbox"
           }
          ],
          "scatterpolar": [
           {
            "marker": {
             "colorbar": {
              "outlinewidth": 0,
              "ticks": ""
             }
            },
            "type": "scatterpolar"
           }
          ],
          "scatterpolargl": [
           {
            "marker": {
             "colorbar": {
              "outlinewidth": 0,
              "ticks": ""
             }
            },
            "type": "scatterpolargl"
           }
          ],
          "scatterternary": [
           {
            "marker": {
             "colorbar": {
              "outlinewidth": 0,
              "ticks": ""
             }
            },
            "type": "scatterternary"
           }
          ],
          "surface": [
           {
            "colorbar": {
             "outlinewidth": 0,
             "ticks": ""
            },
            "colorscale": [
             [
              0,
              "#0d0887"
             ],
             [
              0.1111111111111111,
              "#46039f"
             ],
             [
              0.2222222222222222,
              "#7201a8"
             ],
             [
              0.3333333333333333,
              "#9c179e"
             ],
             [
              0.4444444444444444,
              "#bd3786"
             ],
             [
              0.5555555555555556,
              "#d8576b"
             ],
             [
              0.6666666666666666,
              "#ed7953"
             ],
             [
              0.7777777777777778,
              "#fb9f3a"
             ],
             [
              0.8888888888888888,
              "#fdca26"
             ],
             [
              1,
              "#f0f921"
             ]
            ],
            "type": "surface"
           }
          ],
          "table": [
           {
            "cells": {
             "fill": {
              "color": "#EBF0F8"
             },
             "line": {
              "color": "white"
             }
            },
            "header": {
             "fill": {
              "color": "#C8D4E3"
             },
             "line": {
              "color": "white"
             }
            },
            "type": "table"
           }
          ]
         },
         "layout": {
          "annotationdefaults": {
           "arrowcolor": "#2a3f5f",
           "arrowhead": 0,
           "arrowwidth": 1
          },
          "autotypenumbers": "strict",
          "coloraxis": {
           "colorbar": {
            "outlinewidth": 0,
            "ticks": ""
           }
          },
          "colorscale": {
           "diverging": [
            [
             0,
             "#8e0152"
            ],
            [
             0.1,
             "#c51b7d"
            ],
            [
             0.2,
             "#de77ae"
            ],
            [
             0.3,
             "#f1b6da"
            ],
            [
             0.4,
             "#fde0ef"
            ],
            [
             0.5,
             "#f7f7f7"
            ],
            [
             0.6,
             "#e6f5d0"
            ],
            [
             0.7,
             "#b8e186"
            ],
            [
             0.8,
             "#7fbc41"
            ],
            [
             0.9,
             "#4d9221"
            ],
            [
             1,
             "#276419"
            ]
           ],
           "sequential": [
            [
             0,
             "#0d0887"
            ],
            [
             0.1111111111111111,
             "#46039f"
            ],
            [
             0.2222222222222222,
             "#7201a8"
            ],
            [
             0.3333333333333333,
             "#9c179e"
            ],
            [
             0.4444444444444444,
             "#bd3786"
            ],
            [
             0.5555555555555556,
             "#d8576b"
            ],
            [
             0.6666666666666666,
             "#ed7953"
            ],
            [
             0.7777777777777778,
             "#fb9f3a"
            ],
            [
             0.8888888888888888,
             "#fdca26"
            ],
            [
             1,
             "#f0f921"
            ]
           ],
           "sequentialminus": [
            [
             0,
             "#0d0887"
            ],
            [
             0.1111111111111111,
             "#46039f"
            ],
            [
             0.2222222222222222,
             "#7201a8"
            ],
            [
             0.3333333333333333,
             "#9c179e"
            ],
            [
             0.4444444444444444,
             "#bd3786"
            ],
            [
             0.5555555555555556,
             "#d8576b"
            ],
            [
             0.6666666666666666,
             "#ed7953"
            ],
            [
             0.7777777777777778,
             "#fb9f3a"
            ],
            [
             0.8888888888888888,
             "#fdca26"
            ],
            [
             1,
             "#f0f921"
            ]
           ]
          },
          "colorway": [
           "#636efa",
           "#EF553B",
           "#00cc96",
           "#ab63fa",
           "#FFA15A",
           "#19d3f3",
           "#FF6692",
           "#B6E880",
           "#FF97FF",
           "#FECB52"
          ],
          "font": {
           "color": "#2a3f5f"
          },
          "geo": {
           "bgcolor": "white",
           "lakecolor": "white",
           "landcolor": "#E5ECF6",
           "showlakes": true,
           "showland": true,
           "subunitcolor": "white"
          },
          "hoverlabel": {
           "align": "left"
          },
          "hovermode": "closest",
          "mapbox": {
           "style": "light"
          },
          "paper_bgcolor": "white",
          "plot_bgcolor": "#E5ECF6",
          "polar": {
           "angularaxis": {
            "gridcolor": "white",
            "linecolor": "white",
            "ticks": ""
           },
           "bgcolor": "#E5ECF6",
           "radialaxis": {
            "gridcolor": "white",
            "linecolor": "white",
            "ticks": ""
           }
          },
          "scene": {
           "xaxis": {
            "backgroundcolor": "#E5ECF6",
            "gridcolor": "white",
            "gridwidth": 2,
            "linecolor": "white",
            "showbackground": true,
            "ticks": "",
            "zerolinecolor": "white"
           },
           "yaxis": {
            "backgroundcolor": "#E5ECF6",
            "gridcolor": "white",
            "gridwidth": 2,
            "linecolor": "white",
            "showbackground": true,
            "ticks": "",
            "zerolinecolor": "white"
           },
           "zaxis": {
            "backgroundcolor": "#E5ECF6",
            "gridcolor": "white",
            "gridwidth": 2,
            "linecolor": "white",
            "showbackground": true,
            "ticks": "",
            "zerolinecolor": "white"
           }
          },
          "shapedefaults": {
           "line": {
            "color": "#2a3f5f"
           }
          },
          "ternary": {
           "aaxis": {
            "gridcolor": "white",
            "linecolor": "white",
            "ticks": ""
           },
           "baxis": {
            "gridcolor": "white",
            "linecolor": "white",
            "ticks": ""
           },
           "bgcolor": "#E5ECF6",
           "caxis": {
            "gridcolor": "white",
            "linecolor": "white",
            "ticks": ""
           }
          },
          "title": {
           "x": 0.05
          },
          "xaxis": {
           "automargin": true,
           "gridcolor": "white",
           "linecolor": "white",
           "ticks": "",
           "title": {
            "standoff": 15
           },
           "zerolinecolor": "white",
           "zerolinewidth": 2
          },
          "yaxis": {
           "automargin": true,
           "gridcolor": "white",
           "linecolor": "white",
           "ticks": "",
           "title": {
            "standoff": 15
           },
           "zerolinecolor": "white",
           "zerolinewidth": 2
          }
         }
        },
        "xaxis": {
         "anchor": "y",
         "domain": [
          0,
          1
         ],
         "title": {
          "text": "x"
         }
        },
        "yaxis": {
         "anchor": "x",
         "domain": [
          0,
          1
         ],
         "title": {
          "text": "y"
         }
        }
       }
      }
     },
     "metadata": {},
     "output_type": "display_data"
    }
   ],
   "source": [
    "px.scatter(x = reals, y = imags)"
   ]
  },
  {
   "cell_type": "code",
   "execution_count": 13,
   "metadata": {},
   "outputs": [],
   "source": [
    "temp_file = \"temp.png\"\n",
    "temp_acc_file = \"temp_accumulate.png\"\n",
    "file_name = 'fractal.gif'\n",
    "executable = os.path.join(os.getcwd(), \"cli-tool\", \"target\", \"debug\", \"julia-fractal.exe\" )\n",
    "with imageio.get_writer(file_name, mode='I') as writer:\n",
    "    for ti, (re, im) in enumerate(zip(reals, imags)):\n",
    "        tmp_file = \"temp_.png\"\n",
    "        subprocess.run([executable, f\"-r={re}\", f\"-i={im}\", \"-s\", tmp_file, \"--image-height\",  \"600\", \"--image-width\", \"600\"])\n",
    "        writer.append_data( imageio.imread(tmp_file, format='PNG-PIL', pilmode='L'))"
   ]
  },
  {
   "cell_type": "code",
   "execution_count": null,
   "metadata": {},
   "outputs": [],
   "source": [
    "special_reals = np.array([0.325422  , 0.36816364, 0.32396102, 0.11867633])\n",
    "special_imags = np.array([-0.02381762,  0.3853417 ,  0.50899372,  0.55453096])"
   ]
  },
  {
   "cell_type": "code",
   "execution_count": 7,
   "metadata": {},
   "outputs": [],
   "source": [
    "special_reals = np.array([0.325422  , 0.36816364, 0.32396102, -0.7269,  -0.8])\n",
    "special_imags = np.array([-0.02381762,  0.3853417 ,  0.50899372,  0.1889, 0.156])\n",
    "temp_file = \"temp.png\"\n",
    "file_name = \"fractal_array.png\"\n",
    "executable = os.path.join(os.getcwd(), \"cli-tool\", \"target\", \"debug\", \"julia-fractal.exe\" )\n",
    "\n",
    "for ti, (re, im) in enumerate(zip(special_reals, special_imags)):\n",
    "    if ti in [0,1,2]:\n",
    "        subprocess.run([executable, f\"-r={re}\", f\"-i={im}\", \"-s\", temp_file, \"--image-height\",  \"800\", \"--image-width\", \"800\", \"--max-iterations\", \"50\" ])\n",
    "    else:\n",
    "        subprocess.run([executable, f\"-r={re}\", f\"-i={im}\", \"-s\", temp_file, \"--image-height\",  \"800\", \"--image-width\", \"800\", \"--max-iterations\", \"1000\" ])\n",
    "\n",
    "    if ti == 0:\n",
    "        im = Image.open(temp_file)\n",
    "        im.save(file_name)\n",
    "    else:\n",
    "        im = Image.open(temp_file)\n",
    "        im_acc = Image.open(file_name)\n",
    "        im_acc = Image.fromarray(np.hstack([im_acc,im]))\n",
    "        im_acc.save(file_name)"
   ]
  }
 ],
 "metadata": {
  "kernelspec": {
   "display_name": "jenv",
   "language": "python",
   "name": "python3"
  },
  "language_info": {
   "codemirror_mode": {
    "name": "ipython",
    "version": 3
   },
   "file_extension": ".py",
   "mimetype": "text/x-python",
   "name": "python",
   "nbconvert_exporter": "python",
   "pygments_lexer": "ipython3",
   "version": "3.9.15"
  },
  "orig_nbformat": 4,
  "vscode": {
   "interpreter": {
    "hash": "a6df720517243887f81f829574e18eed6582ce87175ffd531d5fa99bc43729cc"
   }
  }
 },
 "nbformat": 4,
 "nbformat_minor": 2
}
